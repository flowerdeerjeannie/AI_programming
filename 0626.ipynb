{
 "cells": [
  {
   "cell_type": "code",
   "execution_count": null,
   "id": "e81c76c3-1db7-4676-a1c9-f9b8e19c6a52",
   "metadata": {},
   "outputs": [],
   "source": [
    "#2.2 Universal Functions"
   ]
  },
  {
   "cell_type": "code",
   "execution_count": 1,
   "id": "5baa7800-e337-481d-a933-acc06dc913e9",
   "metadata": {},
   "outputs": [],
   "source": [
    "import numpy as np\n"
   ]
  },
  {
   "cell_type": "code",
   "execution_count": 2,
   "id": "d35236ab-5f32-4ee3-89bf-4a5457e44784",
   "metadata": {},
   "outputs": [],
   "source": [
    "def calc(values):\n",
    "    results = []\n",
    "    for i in values:\n",
    "        results.append(1 / i)\n",
    "    return results"
   ]
  },
  {
   "cell_type": "code",
   "execution_count": 21,
   "id": "1ecb0b1a-04db-4971-9f97-704d93955ca6",
   "metadata": {},
   "outputs": [
    {
     "data": {
      "text/plain": [
       "(9999999,)"
      ]
     },
     "execution_count": 21,
     "metadata": {},
     "output_type": "execute_result"
    }
   ],
   "source": [
    "data = np.arange(1, 10000000)\n",
    "len(calc(data))\n",
    "(1/data).shape\n",
    "#(99999,) 인 즉슨, 배열이 1차원이고 그 길이가 99999라는뜻임 shape의 출력물"
   ]
  },
  {
   "cell_type": "code",
   "execution_count": 36,
   "id": "b9017f67-4e12-4efb-82da-cc00fa60f165",
   "metadata": {},
   "outputs": [
    {
     "data": {
      "text/plain": [
       "10000000"
      ]
     },
     "execution_count": 36,
     "metadata": {},
     "output_type": "execute_result"
    }
   ],
   "source": [
    "data=np.random.randint(1, 100, 10000000)\n",
    "len(calc(data))"
   ]
  },
  {
   "cell_type": "code",
   "execution_count": 13,
   "id": "e6771ae6-975e-463a-ae6c-b68daeb0ddd7",
   "metadata": {},
   "outputs": [
    {
     "name": "stdout",
     "output_type": "stream",
     "text": [
      "211 ns ± 0.955 ns per loop (mean ± std. dev. of 7 runs, 1,000,000 loops each)\n"
     ]
    }
   ],
   "source": [
    "%timeit calc(data)"
   ]
  },
  {
   "cell_type": "code",
   "execution_count": 17,
   "id": "c3c46737-a424-4b46-8853-2cb02b2284e9",
   "metadata": {},
   "outputs": [
    {
     "name": "stdout",
     "output_type": "stream",
     "text": [
      "21.2 ms ± 2.97 ms per loop (mean ± std. dev. of 7 runs, 10 loops each)\n"
     ]
    }
   ],
   "source": [
    "%timeit 1/data"
   ]
  },
  {
   "cell_type": "code",
   "execution_count": 30,
   "id": "bd5e9418-25d2-4a3a-a18f-81c2ff59e6b4",
   "metadata": {},
   "outputs": [],
   "source": [
    "class Int:\n",
    "    def __init__(self, x):\n",
    "        self._x = x\n",
    "    \n",
    "    def __add__(self, other):\n",
    "        return self._x + other._x\n",
    "    \n",
    "    def __sub__(self, other):\n",
    "        return self._x - other._x\n",
    "        "
   ]
  },
  {
   "cell_type": "code",
   "execution_count": 34,
   "id": "7c332bab-51d9-4a80-b33e-b8957c8d5bc3",
   "metadata": {},
   "outputs": [
    {
     "data": {
      "text/plain": [
       "(3, 1)"
      ]
     },
     "execution_count": 34,
     "metadata": {},
     "output_type": "execute_result"
    }
   ],
   "source": [
    "a = Int(1)\n",
    "b = Int(2)\n",
    "a + b, b - a "
   ]
  },
  {
   "cell_type": "code",
   "execution_count": 49,
   "id": "96713329",
   "metadata": {},
   "outputs": [
    {
     "data": {
      "text/plain": [
       "array([4, 5, 6])"
      ]
     },
     "execution_count": 49,
     "metadata": {},
     "output_type": "execute_result"
    }
   ],
   "source": [
    "np.array([1,2,3]) + np.array([3]) #이렇게 하는데 3씩 더한값을 반환하다니 신기해"
   ]
  },
  {
   "cell_type": "code",
   "execution_count": 12,
   "id": "0e133b26-2478-49f8-aad6-2befd1ff8dad",
   "metadata": {},
   "outputs": [
    {
     "name": "stdout",
     "output_type": "stream",
     "text": [
      "x       = [0 1 2 3]\n",
      "x + 5 =  [5 6 7 8]\n",
      "x - 5 = [-5 -4 -3 -2]\n",
      "x * 2 = [0 2 4 6]\n",
      "x / 2 =  [0.  0.5 1.  1.5]\n",
      "x // 2 = [0 0 1 1]\n",
      "-x      = [ 0 -1 -2 -3]\n",
      "x ** 2= [0 1 4 9]\n",
      "x % 2 =  [0 1 0 1]\n"
     ]
    }
   ],
   "source": [
    "x=np.arange(4)\n",
    "print(\"x       =\", x)\n",
    "print(\"x + 5 = \", x+5)\n",
    "print(\"x - 5 =\", x-5)\n",
    "print(\"x * 2 =\", x*2)\n",
    "print(\"x / 2 = \", x / 2)\n",
    "print(\"x // 2 =\", x//2) #나머지\n",
    "print(\"-x      =\", -x) #그냥 -만 달았을 뿐인데 음수로 만들어주다니\n",
    "print(\"x ** 2=\", x **2)\n",
    "print(\"x % 2 = \", x%2) #몫\n"
   ]
  },
  {
   "cell_type": "code",
   "execution_count": 13,
   "id": "36f23610-5a7f-4b6f-8ff7-ab9064c6109c",
   "metadata": {},
   "outputs": [
    {
     "data": {
      "text/plain": [
       "array([-1.  , -2.25, -4.  , -6.25])"
      ]
     },
     "execution_count": 13,
     "metadata": {},
     "output_type": "execute_result"
    }
   ],
   "source": [
    "-(0.5*x + 1 ) ** 2"
   ]
  },
  {
   "cell_type": "code",
   "execution_count": 14,
   "id": "3f615ae8",
   "metadata": {},
   "outputs": [
    {
     "data": {
      "text/plain": [
       "array([2, 3, 4, 5])"
      ]
     },
     "execution_count": 14,
     "metadata": {},
     "output_type": "execute_result"
    }
   ],
   "source": [
    "np.add(x, 2) #add는 내장된 특정함수라서 np.add 하면 2씩 더해진 값이 산출됨 . "
   ]
  },
  {
   "cell_type": "code",
   "execution_count": 15,
   "id": "df4488c7",
   "metadata": {},
   "outputs": [
    {
     "data": {
      "text/plain": [
       "array([2, 1, 0, 1, 2])"
      ]
     },
     "execution_count": 15,
     "metadata": {},
     "output_type": "execute_result"
    }
   ],
   "source": [
    "x = np.array([-2, -1, 0, 1, 2])\n",
    "abs(x) #abs는 절댓값"
   ]
  },
  {
   "cell_type": "code",
   "execution_count": 17,
   "id": "c9990353",
   "metadata": {},
   "outputs": [
    {
     "data": {
      "text/plain": [
       "array([2, 1, 0, 1, 2])"
      ]
     },
     "execution_count": 17,
     "metadata": {},
     "output_type": "execute_result"
    }
   ],
   "source": [
    "np.absolute(x)"
   ]
  },
  {
   "cell_type": "code",
   "execution_count": 18,
   "id": "b45c98fb",
   "metadata": {},
   "outputs": [
    {
     "data": {
      "text/plain": [
       "array([5., 5., 2., 1.])"
      ]
     },
     "execution_count": 18,
     "metadata": {},
     "output_type": "execute_result"
    }
   ],
   "source": [
    "x=np.array([3 - 4j, 4-3j, 2+0j, 0+1j])\n",
    "np.abs(x)"
   ]
  },
  {
   "cell_type": "code",
   "execution_count": null,
   "id": "9501d934",
   "metadata": {},
   "outputs": [],
   "source": [
    "#삼각함수"
   ]
  },
  {
   "cell_type": "code",
   "execution_count": 20,
   "id": "8d3204b8",
   "metadata": {},
   "outputs": [
    {
     "name": "stdout",
     "output_type": "stream",
     "text": [
      "theta        = [0.         1.57079633 3.14159265]\n",
      "sin(theta) =  [0.0000000e+00 1.0000000e+00 1.2246468e-16]\n",
      "cos(theta) =  [ 1.000000e+00  6.123234e-17 -1.000000e+00]\n",
      "tan(theta) =  [ 0.00000000e+00  1.63312394e+16 -1.22464680e-16]\n"
     ]
    }
   ],
   "source": [
    "#각도배열정의\n",
    "theta = np.linspace(0, np.pi, 3)\n",
    "print(\"theta        =\", theta)\n",
    "print(\"sin(theta) = \", np.sin(theta))\n",
    "print(\"cos(theta) = \", np.cos(theta))\n",
    "print(\"tan(theta) = \", np.tan(theta))"
   ]
  },
  {
   "cell_type": "code",
   "execution_count": 23,
   "id": "83c349d5",
   "metadata": {},
   "outputs": [
    {
     "name": "stdout",
     "output_type": "stream",
     "text": [
      "x        = [-1, 0, 1]\n",
      "arcsin(x)= [-1.57079633  0.          1.57079633]\n",
      "arccos(x)= [3.14159265 1.57079633 0.        ]\n",
      "arctan(x)= [-0.78539816  0.          0.78539816]\n"
     ]
    }
   ],
   "source": [
    "#역삼각함수 사용\n",
    "x = [-1, 0, 1]\n",
    "print(\"x        =\", x)\n",
    "print(\"arcsin(x)=\", np.arcsin(x))\n",
    "print(\"arccos(x)=\",  np.arccos(x))\n",
    "print(\"arctan(x)=\", np.arctan(x))"
   ]
  },
  {
   "cell_type": "code",
   "execution_count": 24,
   "id": "8a4cb39b",
   "metadata": {},
   "outputs": [
    {
     "name": "stdout",
     "output_type": "stream",
     "text": [
      "x       = [1, 2, 3]\n",
      "e^x     = [ 2.71828183  7.3890561  20.08553692]\n",
      "2^x     = [2. 4. 8.]\n",
      "3^x     = [ 3  9 27]\n"
     ]
    }
   ],
   "source": [
    "#지수연산\n",
    "x = [1,2,3]\n",
    "print(\"x       =\",x)\n",
    "print(\"e^x     =\", np.exp(x))\n",
    "print(\"2^x     =\", np.exp2(x))\n",
    "print(\"3^x     =\", np.power(3,x))"
   ]
  },
  {
   "cell_type": "code",
   "execution_count": 25,
   "id": "fed39416",
   "metadata": {},
   "outputs": [
    {
     "name": "stdout",
     "output_type": "stream",
     "text": [
      "x       = [1, 2, 4, 10]\n",
      "ln(x)   = [0.         0.69314718 1.38629436 2.30258509]\n",
      "log2(x) = [0.         1.         2.         3.32192809]\n",
      "log10(x)= [0.         0.30103    0.60205999 1.        ]\n"
     ]
    }
   ],
   "source": [
    "#로그연산\n",
    "x = [1, 2, 4, 10]\n",
    "print(\"x       =\", x)\n",
    "print(\"ln(x)   =\", np.log(x))\n",
    "print(\"log2(x) =\", np.log2(x))\n",
    "print(\"log10(x)=\", np.log10(x))"
   ]
  },
  {
   "cell_type": "code",
   "execution_count": 26,
   "id": "5fa660a6",
   "metadata": {},
   "outputs": [
    {
     "name": "stdout",
     "output_type": "stream",
     "text": [
      "exp(x) - 1 =  [0.         0.0010005  0.01005017 0.10517092]\n",
      "log(1 + x) =  [0.         0.0009995  0.00995033 0.09531018]\n"
     ]
    }
   ],
   "source": [
    "#작은 입력값 정확도 유지, x가 매우 작을 때 더 정확한 값이 나옴 \n",
    "x = [0, 0.001, 0.01, 0.1]\n",
    "print(\"exp(x) - 1 = \", np.expm1(x))\n",
    "print(\"log(1 + x) = \",np.log1p(x))"
   ]
  },
  {
   "cell_type": "code",
   "execution_count": 27,
   "id": "f9e51a92",
   "metadata": {},
   "outputs": [
    {
     "name": "stdout",
     "output_type": "stream",
     "text": [
      "[ 0. 10. 20. 30. 40.]\n"
     ]
    }
   ],
   "source": [
    "x = np.arange(5)\n",
    "y = np.empty(5)\n",
    "np.multiply(x, 10, out=y)\n",
    "print(y)"
   ]
  },
  {
   "cell_type": "code",
   "execution_count": 28,
   "id": "c8bfd18c",
   "metadata": {},
   "outputs": [
    {
     "name": "stdout",
     "output_type": "stream",
     "text": [
      "[ 1.  0.  2.  0.  4.  0.  8.  0. 16.  0.]\n"
     ]
    }
   ],
   "source": [
    "y=np.zeros(10)\n",
    "np.power(2, x, out=y[::2])\n",
    "print(y)"
   ]
  },
  {
   "cell_type": "code",
   "execution_count": 29,
   "id": "aedcf625",
   "metadata": {},
   "outputs": [
    {
     "data": {
      "text/plain": [
       "15"
      ]
     },
     "execution_count": 29,
     "metadata": {},
     "output_type": "execute_result"
    }
   ],
   "source": [
    "#add에 추가로 reduce 하면 배열의 모든 요소의 합을 반환\n",
    "x = np.arange(1, 6)\n",
    "np.add.reduce(x)"
   ]
  },
  {
   "cell_type": "code",
   "execution_count": 30,
   "id": "d40a2d80",
   "metadata": {},
   "outputs": [
    {
     "data": {
      "text/plain": [
       "120"
      ]
     },
     "execution_count": 30,
     "metadata": {},
     "output_type": "execute_result"
    }
   ],
   "source": [
    "#multiply에 reduce하면 모든 배열의 곱한걸 반환\n",
    "np.multiply.reduce(x)"
   ]
  },
  {
   "cell_type": "code",
   "execution_count": 34,
   "id": "be394ee1",
   "metadata": {},
   "outputs": [
    {
     "data": {
      "text/plain": [
       "array([ 1,  3,  6, 10, 15])"
      ]
     },
     "execution_count": 34,
     "metadata": {},
     "output_type": "execute_result"
    }
   ],
   "source": [
    "#계산의 중간 결과를 저장할때 - accumulate\n",
    "np.add.accumulate(x)"
   ]
  },
  {
   "cell_type": "code",
   "execution_count": 33,
   "id": "d36b95a7",
   "metadata": {},
   "outputs": [
    {
     "data": {
      "text/plain": [
       "array([  1,   2,   6,  24, 120])"
      ]
     },
     "execution_count": 33,
     "metadata": {},
     "output_type": "execute_result"
    }
   ],
   "source": [
    "\n",
    "np.multiply.accumulate(x)\n"
   ]
  },
  {
   "cell_type": "code",
   "execution_count": 37,
   "id": "2f10a523",
   "metadata": {},
   "outputs": [
    {
     "name": "stdout",
     "output_type": "stream",
     "text": [
      "[1 2 3 4 5]\n"
     ]
    },
    {
     "data": {
      "text/plain": [
       "array([[ 1,  2,  3,  4,  5],\n",
       "       [ 2,  4,  6,  8, 10],\n",
       "       [ 3,  6,  9, 12, 15],\n",
       "       [ 4,  8, 12, 16, 20],\n",
       "       [ 5, 10, 15, 20, 25]])"
      ]
     },
     "execution_count": 37,
     "metadata": {},
     "output_type": "execute_result"
    }
   ],
   "source": [
    "#outer 메서드는 모든 쌍에 대한 출력값을 계산함, outer(x,x)는 x가 1,2,3,4,5 일때 x,x곱한걸 뱉으니까 5행 5열을 뱉어냄 곱셈테이블 만들수있음 \n",
    "x = np.arange(1, 6)\n",
    "print(x)\n",
    "np.multiply.outer(x,x)"
   ]
  },
  {
   "cell_type": "code",
   "execution_count": 39,
   "id": "25ce514c",
   "metadata": {},
   "outputs": [
    {
     "data": {
      "text/plain": [
       "51.55579889219003"
      ]
     },
     "execution_count": 39,
     "metadata": {},
     "output_type": "execute_result"
    }
   ],
   "source": [
    "L = np.random.random(100) #길이가 100인 배열, 각 요소는 0이상 1미만의 실수 \n",
    "sum(L)"
   ]
  },
  {
   "cell_type": "code",
   "execution_count": 41,
   "id": "afe363d6",
   "metadata": {},
   "outputs": [
    {
     "data": {
      "text/plain": [
       "51.55579889219003"
      ]
     },
     "execution_count": 41,
     "metadata": {},
     "output_type": "execute_result"
    }
   ],
   "source": [
    "np.sum(L)"
   ]
  },
  {
   "cell_type": "code",
   "execution_count": 42,
   "id": "d9e6bff9",
   "metadata": {},
   "outputs": [
    {
     "name": "stdout",
     "output_type": "stream",
     "text": [
      "5.2 ms ± 128 µs per loop (mean ± std. dev. of 7 runs, 100 loops each)\n",
      "33.6 µs ± 478 ns per loop (mean ± std. dev. of 7 runs, 10,000 loops each)\n"
     ]
    }
   ],
   "source": [
    "#np로 연산했을때와 그냥연산 속도비교\n",
    "big_array=np.random.random(100000)\n",
    "%timeit sum(big_array)\n",
    "%timeit np.sum(big_array)"
   ]
  },
  {
   "cell_type": "code",
   "execution_count": 43,
   "id": "3455c26e",
   "metadata": {},
   "outputs": [
    {
     "data": {
      "text/plain": [
       "(3.1976696511559766e-05, 0.999996076993443)"
      ]
     },
     "execution_count": 43,
     "metadata": {},
     "output_type": "execute_result"
    }
   ],
   "source": [
    "min(big_array), max(big_array)"
   ]
  },
  {
   "cell_type": "code",
   "execution_count": 44,
   "id": "7ec93bf3",
   "metadata": {},
   "outputs": [
    {
     "name": "stdout",
     "output_type": "stream",
     "text": [
      "3.25 ms ± 31.1 µs per loop (mean ± std. dev. of 7 runs, 100 loops each)\n",
      "19.6 µs ± 374 ns per loop (mean ± std. dev. of 7 runs, 100,000 loops each)\n"
     ]
    }
   ],
   "source": [
    "%timeit min(big_array)\n",
    "%timeit np.min(big_array)"
   ]
  },
  {
   "cell_type": "code",
   "execution_count": 45,
   "id": "658251f2",
   "metadata": {},
   "outputs": [
    {
     "name": "stdout",
     "output_type": "stream",
     "text": [
      "3.1976696511559766e-05 0.999996076993443 49887.742026341686\n"
     ]
    }
   ],
   "source": [
    "print(big_array.min(), big_array.max(), big_array.sum())"
   ]
  },
  {
   "cell_type": "code",
   "execution_count": 46,
   "id": "a5b93a13",
   "metadata": {},
   "outputs": [
    {
     "name": "stdout",
     "output_type": "stream",
     "text": [
      "[[0.89843284 0.8239814  0.88840223 0.43340755]\n",
      " [0.95531127 0.09206253 0.79633642 0.44011233]\n",
      " [0.42365219 0.13659994 0.33944882 0.17300224]]\n"
     ]
    }
   ],
   "source": [
    "M=np.random.random((3,4)) #0과1사이 3행4열짜리\n",
    "print(M)\n"
   ]
  },
  {
   "cell_type": "code",
   "execution_count": 47,
   "id": "12e51faa",
   "metadata": {},
   "outputs": [
    {
     "data": {
      "text/plain": [
       "6.4007497412309755"
      ]
     },
     "execution_count": 47,
     "metadata": {},
     "output_type": "execute_result"
    }
   ],
   "source": [
    "M.sum()"
   ]
  },
  {
   "cell_type": "code",
   "execution_count": 48,
   "id": "0383d9c7",
   "metadata": {},
   "outputs": [
    {
     "data": {
      "text/plain": [
       "array([0.42365219, 0.09206253, 0.33944882, 0.17300224])"
      ]
     },
     "execution_count": 48,
     "metadata": {},
     "output_type": "execute_result"
    }
   ],
   "source": [
    "M.min(axis=0) #3차원 배열은 높이.행.열이 다 있다는걸 알아야함 row.col뿐만 아니라 height가 존재한다.\n",
    "#axis=0이면 열을 따라 계산한다. (축) axis=1이면 행을 따라 계산한다.\n",
    "#M.min(axis=0)은 모든 열을 기준으로 보고 열마다의 최솟값을 반환한다."
   ]
  },
  {
   "cell_type": "code",
   "execution_count": 51,
   "id": "7e22bb84",
   "metadata": {},
   "outputs": [
    {
     "data": {
      "text/plain": [
       "array([[ 1,  2,  3,  4],\n",
       "       [ 5,  6,  7,  8],\n",
       "       [ 9, 10, 11, 12]])"
      ]
     },
     "execution_count": 51,
     "metadata": {},
     "output_type": "execute_result"
    }
   ],
   "source": [
    "data = np.arange(1,13).reshape(3,4)\n",
    "data"
   ]
  },
  {
   "cell_type": "code",
   "execution_count": 52,
   "id": "9491c8a9",
   "metadata": {},
   "outputs": [
    {
     "data": {
      "text/plain": [
       "(78, array([15, 18, 21, 24]), array([10, 26, 42]))"
      ]
     },
     "execution_count": 52,
     "metadata": {},
     "output_type": "execute_result"
    }
   ],
   "source": [
    "np.sum(data), np.sum(data, axis=0), np.sum(data, axis=1)"
   ]
  },
  {
   "cell_type": "code",
   "execution_count": 53,
   "id": "31cd3148",
   "metadata": {},
   "outputs": [
    {
     "data": {
      "text/plain": [
       "array([[ 1,  2,  3,  4],\n",
       "       [ 5,  6,  7,  8],\n",
       "       [ 9, 10, 11, 12],\n",
       "       [15, 18, 21, 24]])"
      ]
     },
     "execution_count": 53,
     "metadata": {},
     "output_type": "execute_result"
    }
   ],
   "source": [
    "#concatenate - 배열에 합을 추가하는, 연결하는 함수.\n",
    "#np.sum(data, axis=0)는 1차원 배열 나오고, [np.newaxis,:]를 붙이면 2차원 배열이 됨.\n",
    "#newaxis는 새로운 axis를 추가한다는 것, ex)1차원->2차원으로. :는 모든 열 선택하는 슬라이싱**\n",
    "#내가 이해 못한점 - [15, 18, 21, 24]와 [[15, 18, 21, 24]]가 다르다는거\n",
    "#[15, 18, 21, 24]는 단순 1차원 배열. 행열이 없음 고로 배열의 shape를 하면 (4,)\n",
    "#[[15, 18, 21, 24]]는 각 요소가 하나의 리스트인 2차원 배열. 행이 있다. 얘는 (1,4)\n",
    "\n",
    "#[15, 18, 21, 24]: 이것은 단순히 1차원 배열입니다. 요소가 4개이며, \n",
    "# 각 요소는 배열의 각 열(axis=0 방향)의 합을 나타내는 값을 포함합니다. 이 배열의 모양(shape)은 (4,)입니다.\n",
    "\n",
    "#[[15, 18, 21, 24]]: 이것은 1개의 행(row)을 가지는 2차원 배열입니다. \n",
    "# 배열 안에는 한 행이 있고, 그 행은 4개의 요소를 가지며 \n",
    "# 각각은 배열의 열(axis=1 방향)의 합을 나타내는 값을 포함합니다. 이 배열의 모양(shape)은 (1, 4)입니다.\n",
    "\n",
    "#따라서 [15, 18, 21, 24]은 행렬(matrix)이 아닌 단순한 1차원 배열이며, \n",
    "# [[15, 18, 21, 24]]는 1행 4열의 2차원 배열이라고 할 수 있습니다.\n",
    "\n",
    "np.concatenate([data, np.sum(data, axis=0)[np.newaxis,:]])"
   ]
  },
  {
   "cell_type": "code",
   "execution_count": 54,
   "id": "4b18536c",
   "metadata": {},
   "outputs": [
    {
     "data": {
      "text/plain": [
       "array([7, 8, 1, 6, 4, 2, 4, 8, 7, 1, 1, 3, 4, 4, 3, 5, 3, 8, 4, 6, 2, 0,\n",
       "       7, 4, 5, 2, 7, 0, 1, 4, 6, 0])"
      ]
     },
     "execution_count": 54,
     "metadata": {},
     "output_type": "execute_result"
    }
   ],
   "source": [
    "values=np.random.randint(0, 10, 32) #0에서 10안으로 32개 int\n",
    "values"
   ]
  },
  {
   "cell_type": "code",
   "execution_count": 55,
   "id": "3d4ff295",
   "metadata": {},
   "outputs": [
    {
     "data": {
      "text/plain": [
       "array([0, 0, 0, 1, 1, 1, 1, 2, 2, 2, 3, 3, 3, 4, 4, 4, 4, 4, 4, 4, 5, 5,\n",
       "       6, 6, 6, 7, 7, 7, 7, 8, 8, 8])"
      ]
     },
     "execution_count": 55,
     "metadata": {},
     "output_type": "execute_result"
    }
   ],
   "source": [
    "np.sort(values) #values 요소를 오름차순으로 정렬"
   ]
  },
  {
   "cell_type": "code",
   "execution_count": 56,
   "id": "1a465fde",
   "metadata": {},
   "outputs": [
    {
     "data": {
      "text/plain": [
       "array([31, 21, 27,  9, 10, 28,  2,  5, 25, 20, 11, 14, 16,  6, 29, 12, 13,\n",
       "       23, 18,  4, 24, 15, 30,  3, 19, 22,  8, 26,  0, 17,  7,  1],\n",
       "      dtype=int64)"
      ]
     },
     "execution_count": 56,
     "metadata": {},
     "output_type": "execute_result"
    }
   ],
   "source": [
    "#argsort - 1. 오름차순으로 정렬을 했다고 생각하고,\n",
    "# 2.여기 올 자리의 아이가 3.원래 배열에서 몇 번째 인덱스인지를 알려주는것. \n",
    "np.argsort(values)"
   ]
  },
  {
   "cell_type": "code",
   "execution_count": 57,
   "id": "96aa6ce3",
   "metadata": {},
   "outputs": [],
   "source": [
    "import pandas as pd"
   ]
  },
  {
   "cell_type": "code",
   "execution_count": 58,
   "id": "64b93759",
   "metadata": {},
   "outputs": [],
   "source": [
    "data=pd.read_csv('./president_heights.csv')"
   ]
  },
  {
   "cell_type": "code",
   "execution_count": 59,
   "id": "b3e7057c",
   "metadata": {},
   "outputs": [
    {
     "name": "stdout",
     "output_type": "stream",
     "text": [
      "[189 170 189 163 183 171 185 168 173 183 173 173 175 178 183 193 178 173\n",
      " 174 183 183 168 170 178 182 180 183 178 182 188 175 179 183 193 182 183\n",
      " 177 185 188 188 182 185]\n"
     ]
    }
   ],
   "source": [
    "heights = np.array(data['height(cm)'])\n",
    "print(heights)"
   ]
  },
  {
   "cell_type": "code",
   "execution_count": 63,
   "id": "2653d393",
   "metadata": {},
   "outputs": [
    {
     "name": "stdout",
     "output_type": "stream",
     "text": [
      "Standard devation: 6.931843442745892\n",
      "Median:            182.0\n",
      "75th percentile:   183.0\n"
     ]
    }
   ],
   "source": [
    "print(\"Standard devation:\", heights.std())\n",
    "#신장의 중앙값.\n",
    "print(\"Median:           \", np.median(heights))\n",
    "print(\"75th percentile:  \", np.percentile(heights, 75))"
   ]
  },
  {
   "cell_type": "code",
   "execution_count": 68,
   "id": "52ed4718",
   "metadata": {},
   "outputs": [
    {
     "data": {
      "text/plain": [
       "array([5, 6, 7])"
      ]
     },
     "execution_count": 68,
     "metadata": {},
     "output_type": "execute_result"
    }
   ],
   "source": [
    "a = np.array([0,1,2])\n",
    "b = np.array([5,5,5])\n",
    "a + b "
   ]
  },
  {
   "cell_type": "code",
   "execution_count": 69,
   "id": "b4edb6bf",
   "metadata": {},
   "outputs": [
    {
     "data": {
      "text/plain": [
       "array([5, 6, 7])"
      ]
     },
     "execution_count": 69,
     "metadata": {},
     "output_type": "execute_result"
    }
   ],
   "source": [
    "a + 5 #아니그냥대뜸 5만 하는데도 배열에 5가 추가되어서 나옴 "
   ]
  },
  {
   "cell_type": "code",
   "execution_count": 70,
   "id": "ee593bbd",
   "metadata": {},
   "outputs": [
    {
     "data": {
      "text/plain": [
       "array([[1., 1., 1.],\n",
       "       [1., 1., 1.],\n",
       "       [1., 1., 1.]])"
      ]
     },
     "execution_count": 70,
     "metadata": {},
     "output_type": "execute_result"
    }
   ],
   "source": [
    "M = np.ones((3,3))\n",
    "M"
   ]
  },
  {
   "cell_type": "code",
   "execution_count": 71,
   "id": "1b2cca70",
   "metadata": {},
   "outputs": [
    {
     "data": {
      "text/plain": [
       "array([[1., 2., 3.],\n",
       "       [1., 2., 3.],\n",
       "       [1., 2., 3.]])"
      ]
     },
     "execution_count": 71,
     "metadata": {},
     "output_type": "execute_result"
    }
   ],
   "source": [
    "#M은 2차원이고 a는 1차원 그냥배열인데 하나하나에 더한값이 출력이 됨 \n",
    "M + a"
   ]
  },
  {
   "cell_type": "code",
   "execution_count": 72,
   "id": "3ffbeb12",
   "metadata": {},
   "outputs": [
    {
     "name": "stdout",
     "output_type": "stream",
     "text": [
      "[0 1 2]\n",
      "[[0]\n",
      " [1]\n",
      " [2]]\n"
     ]
    }
   ],
   "source": [
    "a = np.arange(3)\n",
    "b = np.arange(3)[:, np.newaxis] #a.shape은 (3,) 에서 열자리에 axis추가한게 되니까 (3,1)\n",
    "#:는 모든행. 특정행이 아니라 모든행을 순회한다. 모든요소를 선택한다는말이됨 \n",
    "print(a)\n",
    "print(b)"
   ]
  },
  {
   "cell_type": "code",
   "execution_count": 74,
   "id": "6329d0d3",
   "metadata": {},
   "outputs": [],
   "source": [
    "#두 배열의 차원 수가 다른 경우. (3,)이랑 (3,1)인 경우\n",
    "#낮은 차원의 배열에 축이 추가된다고함. (3,1)로 맞추기 위해 자동으로 형상이 확장된다.\n",
    "a+b"
   ]
  },
  {
   "cell_type": "code",
   "execution_count": 80,
   "id": "695c6d8d",
   "metadata": {},
   "outputs": [
    {
     "name": "stdout",
     "output_type": "stream",
     "text": [
      "(2, 3)\n",
      "(3,)\n"
     ]
    }
   ],
   "source": [
    "M = np.ones((2,3))\n",
    "a=np.arange(3)\n",
    "print(M.shape)\n",
    "print(a.shape)"
   ]
  },
  {
   "cell_type": "code",
   "execution_count": 77,
   "id": "e83f833e",
   "metadata": {},
   "outputs": [
    {
     "data": {
      "text/plain": [
       "array([[1., 2., 3.],\n",
       "       [1., 2., 3.]])"
      ]
     },
     "execution_count": 77,
     "metadata": {},
     "output_type": "execute_result"
    }
   ],
   "source": [
    "M + a "
   ]
  },
  {
   "cell_type": "code",
   "execution_count": 79,
   "id": "53ebc1f3",
   "metadata": {},
   "outputs": [
    {
     "name": "stdout",
     "output_type": "stream",
     "text": [
      "(3, 1)\n",
      "(3,)\n"
     ]
    }
   ],
   "source": [
    "a = np.arange(3).reshape((3,1))\n",
    "b = np.arange(3)\n",
    "print(a.shape)\n",
    "print(b.shape)"
   ]
  },
  {
   "cell_type": "code",
   "execution_count": 81,
   "id": "24d66ede",
   "metadata": {},
   "outputs": [
    {
     "data": {
      "text/plain": [
       "array([0, 2, 4])"
      ]
     },
     "execution_count": 81,
     "metadata": {},
     "output_type": "execute_result"
    }
   ],
   "source": [
    "a+b"
   ]
  },
  {
   "cell_type": "code",
   "execution_count": 86,
   "id": "3b94b0db",
   "metadata": {},
   "outputs": [
    {
     "name": "stdout",
     "output_type": "stream",
     "text": [
      "[[0.3313705  0.93508613 0.32840948]\n",
      " [0.86126763 0.58686305 0.08984854]\n",
      " [0.54515008 0.30737865 0.56198319]\n",
      " [0.14503347 0.49189002 0.84722839]\n",
      " [0.47707094 0.10856483 0.76221566]\n",
      " [0.90604594 0.36033404 0.1430809 ]\n",
      " [0.87509688 0.64795142 0.69777839]\n",
      " [0.30486236 0.56559581 0.61653088]\n",
      " [0.48674789 0.94888399 0.6958447 ]\n",
      " [0.63761053 0.33104462 0.17560827]]\n"
     ]
    },
    {
     "data": {
      "text/plain": [
       "array([0.55702562, 0.52835926, 0.49185284])"
      ]
     },
     "execution_count": 86,
     "metadata": {},
     "output_type": "execute_result"
    }
   ],
   "source": [
    "X = np.random.random((10,3)) #10행3열짜리의 2차원\n",
    "print(X)\n",
    "#mean 집계함수 - mean은 평균값 \n",
    "Xmean=X.mean(0) #이말인즉슨 axis=0이랑 같은말 .0이니까 방향이 행방향이라는뜻이므로 열의 평균 계산함\n",
    "Xmean"
   ]
  },
  {
   "cell_type": "code",
   "execution_count": 95,
   "id": "61f09151",
   "metadata": {},
   "outputs": [
    {
     "data": {
      "text/plain": [
       "(10, 3)"
      ]
     },
     "execution_count": 95,
     "metadata": {},
     "output_type": "execute_result"
    }
   ],
   "source": [
    "#axis=0, 열들의평균.인데 브로드캐스팅으로 \n",
    "#각 행의 모든 요소에서 열들의 평균값을 빼는 뺄셈연산 수행함!! \n",
    "centered_x = X - np.mean(X, axis=0)\n",
    "centered_x.shape"
   ]
  },
  {
   "cell_type": "code",
   "execution_count": 94,
   "id": "db17190f",
   "metadata": {},
   "outputs": [
    {
     "data": {
      "text/plain": [
       "array([0.55702562, 0.52835926, 0.49185284])"
      ]
     },
     "execution_count": 94,
     "metadata": {},
     "output_type": "execute_result"
    }
   ],
   "source": [
    "np.mean(X, axis=0)"
   ]
  },
  {
   "cell_type": "code",
   "execution_count": 84,
   "id": "bbe4e0e0",
   "metadata": {},
   "outputs": [
    {
     "data": {
      "text/plain": [
       "array([-8.88178420e-17,  5.55111512e-18,  2.22044605e-17])"
      ]
     },
     "execution_count": 84,
     "metadata": {},
     "output_type": "execute_result"
    }
   ],
   "source": [
    "X_centered=X - Xmean\n",
    "X_centered.mean(0)"
   ]
  },
  {
   "cell_type": "code",
   "execution_count": 87,
   "id": "ae588b56",
   "metadata": {},
   "outputs": [],
   "source": [
    "x=np.linspace(0, 5, 50)\n",
    "y=np.linspace(0, 5, 50)[:, np.newaxis] #이건 모든행순회하며 1열로만들기니까\n",
    "z = np.sin(x) ** 1- + np.cos(10 + y * x) * np.cos(x)"
   ]
  },
  {
   "cell_type": "code",
   "execution_count": 90,
   "id": "a2e97b5d",
   "metadata": {},
   "outputs": [],
   "source": [
    "%matplotlib inline\n",
    "import matplotlib.pyplot as plt"
   ]
  },
  {
   "cell_type": "code",
   "execution_count": 91,
   "id": "304831d0",
   "metadata": {},
   "outputs": [
    {
     "data": {
      "text/plain": [
       "<matplotlib.image.AxesImage at 0x213dd7c8e20>"
      ]
     },
     "execution_count": 91,
     "metadata": {},
     "output_type": "execute_result"
    },
    {
     "data": {
      "image/png": "[encoded data removed]",
      "text/plain": [
       "<Figure size 640x480 with 1 Axes>"
      ]
     },
     "metadata": {},
     "output_type": "display_data"
    }
   ],
   "source": [
    "plt.imshow(z, origin='lower', extent=[0, 5, 0, 5], cmap='viridis')"
   ]
  },
  {
   "cell_type": "code",
   "execution_count": 97,
   "id": "74bcf63d",
   "metadata": {},
   "outputs": [
    {
     "data": {
      "text/plain": [
       "(365,)"
      ]
     },
     "execution_count": 97,
     "metadata": {},
     "output_type": "execute_result"
    }
   ],
   "source": [
    "rainfall = pd.read_csv('./Seattle2014.csv')['PRCP'].values\n",
    "inches=rainfall / 254\n",
    "inches.shape"
   ]
  },
  {
   "cell_type": "code",
   "execution_count": 98,
   "id": "c370f79a",
   "metadata": {},
   "outputs": [
    {
     "data": {
      "image/png": "[encoded data removed]",
      "text/plain": [
       "<Figure size 640x480 with 1 Axes>"
      ]
     },
     "metadata": {},
     "output_type": "display_data"
    }
   ],
   "source": [
    "plt.hist(inches, 40);"
   ]
  },
  {
   "cell_type": "code",
   "execution_count": 101,
   "id": "d7bdb4ff",
   "metadata": {},
   "outputs": [
    {
     "data": {
      "text/plain": [
       "120"
      ]
     },
     "execution_count": 101,
     "metadata": {},
     "output_type": "execute_result"
    }
   ],
   "source": [
    "# rainfall에서 10을 넘는 값들의 합을 산출 \n",
    "np.sum(rainfall> 10)"
   ]
  },
  {
   "cell_type": "code",
   "execution_count": 102,
   "id": "3581b38d",
   "metadata": {},
   "outputs": [
    {
     "data": {
      "text/plain": [
       "3"
      ]
     },
     "execution_count": 102,
     "metadata": {},
     "output_type": "execute_result"
    }
   ],
   "source": [
    "np.sum(rainfall==10)"
   ]
  },
  {
   "cell_type": "code",
   "execution_count": 103,
   "id": "ea0d5078",
   "metadata": {},
   "outputs": [
    {
     "data": {
      "text/plain": [
       "array([ True,  True, False, False, False])"
      ]
     },
     "execution_count": 103,
     "metadata": {},
     "output_type": "execute_result"
    }
   ],
   "source": [
    "a = np.array([1,2,3,4,5])\n",
    "# a<3 만으로도 a요소들이 3보다 작은가를 boolean으로 반납해준다는거 \n",
    "a < 3 "
   ]
  },
  {
   "cell_type": "code",
   "execution_count": 104,
   "id": "bb287faa",
   "metadata": {},
   "outputs": [
    {
     "data": {
      "text/plain": [
       "array([ True,  True, False,  True,  True])"
      ]
     },
     "execution_count": 104,
     "metadata": {},
     "output_type": "execute_result"
    }
   ],
   "source": [
    "a != 3"
   ]
  },
  {
   "cell_type": "code",
   "execution_count": 106,
   "id": "eb1167ee",
   "metadata": {},
   "outputs": [
    {
     "name": "stdout",
     "output_type": "stream",
     "text": [
      "[[5 6 2 5 4]\n",
      " [2 1 1 2 6]\n",
      " [3 3 1 5 4]\n",
      " [4 3 6 5 2]\n",
      " [5 1 3 2 2]\n",
      " [2 6 5 5 4]\n",
      " [5 6 1 6 6]\n",
      " [6 5 6 5 5]\n",
      " [3 5 1 2 5]\n",
      " [6 5 1 5 1]]\n"
     ]
    },
    {
     "data": {
      "text/plain": [
       "array([[False, False,  True, False, False],\n",
       "       [ True,  True,  True,  True, False],\n",
       "       [False, False,  True, False, False],\n",
       "       [False, False, False, False,  True],\n",
       "       [False,  True, False,  True,  True],\n",
       "       [ True, False, False, False, False],\n",
       "       [False, False,  True, False, False],\n",
       "       [False, False, False, False, False],\n",
       "       [False, False,  True,  True, False],\n",
       "       [False, False,  True, False,  True]])"
      ]
     },
     "execution_count": 106,
     "metadata": {},
     "output_type": "execute_result"
    }
   ],
   "source": [
    "x = np.random.randint(1, 7, (10, 5))\n",
    "print(x)\n",
    "x < 3 "
   ]
  },
  {
   "cell_type": "code",
   "execution_count": 107,
   "id": "30042032",
   "metadata": {},
   "outputs": [
    {
     "data": {
      "text/plain": [
       "10"
      ]
     },
     "execution_count": 107,
     "metadata": {},
     "output_type": "execute_result"
    }
   ],
   "source": [
    "# &하나가 and 니까 6을 최대공약수로가지는것들의 갯수 반환\n",
    "# true of false 중에서 true 값이 몇갠지 가져온다는거 \n",
    "np.sum((x%2 == 0) & ( x% 3 ==0))"
   ]
  },
  {
   "cell_type": "code",
   "execution_count": 108,
   "id": "e8dd071b",
   "metadata": {},
   "outputs": [
    {
     "data": {
      "text/plain": [
       "92"
      ]
     },
     "execution_count": 108,
     "metadata": {},
     "output_type": "execute_result"
    }
   ],
   "source": [
    "#이거는 짝수인 요소들의 합을 반환함. 갯수 ㄴㄴ\n",
    "# [x % 2 == 0] 얘는 true or false를 반환한다는거. \n",
    "# 배열 x에서 true에 해당하는 애들만 골라서 () 안에 들어가니까, sum은 그 요소들의 합이 됨.\n",
    "result_sum = np.sum(x[x % 2 == 0])\n",
    "result_sum"
   ]
  },
  {
   "cell_type": "code",
   "execution_count": 110,
   "id": "d6c26ae1",
   "metadata": {},
   "outputs": [
    {
     "data": {
      "text/plain": [
       "array([[ True,  True, False,  True, False],\n",
       "       [False, False, False, False,  True],\n",
       "       [False, False, False,  True, False],\n",
       "       [False, False,  True,  True, False],\n",
       "       [ True, False, False, False, False],\n",
       "       [False,  True,  True,  True, False],\n",
       "       [ True,  True, False,  True,  True],\n",
       "       [ True,  True,  True,  True,  True],\n",
       "       [False,  True, False, False,  True],\n",
       "       [ True,  True, False,  True, False]])"
      ]
     },
     "execution_count": 110,
     "metadata": {},
     "output_type": "execute_result"
    }
   ],
   "source": [
    "(x > 4 ) & (x < 8) \n",
    "#그냥밑도끝도없이 이렇게 불리언만 요구해도 true or false로 배열 뱉어줌 "
   ]
  },
  {
   "cell_type": "code",
   "execution_count": 111,
   "id": "5c941b04",
   "metadata": {},
   "outputs": [
    {
     "name": "stdout",
     "output_type": "stream",
     "text": [
      "[51 92 14 71 60 20 82 86 74 74]\n"
     ]
    }
   ],
   "source": [
    "#RandomState(42)달아주면 값 안변하고 고정됨 \n",
    "rand=np.random.RandomState(42)\n",
    "x=rand.randint(100, size=10)\n",
    "print(x)"
   ]
  },
  {
   "cell_type": "code",
   "execution_count": 112,
   "id": "77c825f3",
   "metadata": {},
   "outputs": [
    {
     "data": {
      "text/plain": [
       "[71, 86, 14]"
      ]
     },
     "execution_count": 112,
     "metadata": {},
     "output_type": "execute_result"
    }
   ],
   "source": [
    "[x[3], x[7], x[2]]"
   ]
  },
  {
   "cell_type": "code",
   "execution_count": 113,
   "id": "5e4a9436",
   "metadata": {},
   "outputs": [
    {
     "data": {
      "text/plain": [
       "array([71, 86, 60])"
      ]
     },
     "execution_count": 113,
     "metadata": {},
     "output_type": "execute_result"
    }
   ],
   "source": [
    "#인덱스의 리스트를 통째로 전달해서 그 값을 뱉어내게 할수도있음. \n",
    "ind = [3, 7, 4]\n",
    "x[ind]"
   ]
  },
  {
   "cell_type": "code",
   "execution_count": 114,
   "id": "cec8407e",
   "metadata": {},
   "outputs": [
    {
     "data": {
      "text/plain": [
       "array([[71, 86],\n",
       "       [60, 20]])"
      ]
     },
     "execution_count": 114,
     "metadata": {},
     "output_type": "execute_result"
    }
   ],
   "source": [
    "#히얀한인덱싱.. 이게 일단 2행2열로 뱉어내겠다는것임을 알아야함 \n",
    "#그냥 리스트를 배열로 바꿔주는 히얀한인덱싱 \n",
    "#x[3]은 71이고 x[7]은 86이라서 \n",
    "#1행은 [71,86]이고 2행은 [60,20]을 [] 감싼 2차원 배열이 됨 \n",
    "ind = np.array([[3,7],[4,5]])\n",
    "x[ind]"
   ]
  },
  {
   "cell_type": "code",
   "execution_count": 115,
   "id": "f0be673c",
   "metadata": {},
   "outputs": [
    {
     "data": {
      "text/plain": [
       "array([[ 0,  1,  2,  3],\n",
       "       [ 4,  5,  6,  7],\n",
       "       [ 8,  9, 10, 11]])"
      ]
     },
     "execution_count": 115,
     "metadata": {},
     "output_type": "execute_result"
    }
   ],
   "source": [
    "X= np.arange(12).reshape((3,4))\n",
    "X"
   ]
  },
  {
   "cell_type": "code",
   "execution_count": 117,
   "id": "d74dc402",
   "metadata": {},
   "outputs": [
    {
     "data": {
      "text/plain": [
       "array([ 2,  5, 11])"
      ]
     },
     "execution_count": 117,
     "metadata": {},
     "output_type": "execute_result"
    }
   ],
   "source": [
    "row = np.array([0,1,2]) #얘는 (1,) 그리고 밑에도 (1,)\n",
    "col = np.array([2,1,3])\n",
    "#일단 X는 2차원 배열이라고 가정할수있음\n",
    "#그러면 값을 하나씩 가져와서 X[0,2] X[1,1] X[2,3] 이기때문에 아래와 같은 값이 나옴. \n",
    "X[row, col]"
   ]
  },
  {
   "cell_type": "code",
   "execution_count": 118,
   "id": "83133ba5",
   "metadata": {},
   "outputs": [
    {
     "data": {
      "text/plain": [
       "array([[ 2,  1,  3],\n",
       "       [ 6,  5,  7],\n",
       "       [10,  9, 11]])"
      ]
     },
     "execution_count": 118,
     "metadata": {},
     "output_type": "execute_result"
    }
   ],
   "source": [
    "X[row[:, np.newaxis], col]\n",
    "#row[:, np.newaxis]이렇게한건 또 이 배열에 축을 추가해가지고 (3, ) 이거를 (3,1)로 만들었다는거자나\n",
    "#그럼 결국에는 이건 [0]\n",
    "#[1]\n",
    "#[2] 이거랑 [2,1,3]의 결합인데 "
   ]
  },
  {
   "cell_type": "code",
   "execution_count": 121,
   "id": "07c7e769",
   "metadata": {},
   "outputs": [
    {
     "data": {
      "text/plain": [
       "([14, 20, 51, 60, 71, 74, 74, 82, 86, 92],\n",
       " array([51, 92, 14, 71, 60, 20, 82, 86, 74, 74]))"
      ]
     },
     "execution_count": 121,
     "metadata": {},
     "output_type": "execute_result"
    }
   ],
   "source": [
    "x\n",
    "sorted(x), x"
   ]
  },
  {
   "cell_type": "code",
   "execution_count": 122,
   "id": "4e26b356",
   "metadata": {},
   "outputs": [
    {
     "data": {
      "text/plain": [
       "(None, array([14, 20, 51, 60, 71, 74, 74, 82, 86, 92]))"
      ]
     },
     "execution_count": 122,
     "metadata": {},
     "output_type": "execute_result"
    }
   ],
   "source": [
    "x.sort(), x"
   ]
  },
  {
   "cell_type": "code",
   "execution_count": 123,
   "id": "930ae3dd",
   "metadata": {},
   "outputs": [
    {
     "data": {
      "text/plain": [
       "(array([2, 3, 4, 5, 8]), array([3, 5, 2, 4, 8]))"
      ]
     },
     "execution_count": 123,
     "metadata": {},
     "output_type": "execute_result"
    }
   ],
   "source": [
    "data = np.array([3,5,2,4,8])\n",
    "np.sort(data), data"
   ]
  },
  {
   "cell_type": "code",
   "execution_count": 124,
   "id": "758140f0",
   "metadata": {},
   "outputs": [
    {
     "data": {
      "text/plain": [
       "(None, array([2, 3, 4, 5, 8]))"
      ]
     },
     "execution_count": 124,
     "metadata": {},
     "output_type": "execute_result"
    }
   ],
   "source": [
    "#.sort하고나서 data출력하면 기존data와 다르게 데이터변동된걸로 출력됨 \n",
    "#but 위에처럼 np붙여서 sort하고나서, data출력 하면 변동없음 np권장하는 이유가 잇것지 \n",
    "data.sort(), data"
   ]
  },
  {
   "cell_type": "code",
   "execution_count": null,
   "id": "83b6fdaf",
   "metadata": {},
   "outputs": [],
   "source": []
  }
 ],
 "metadata": {
  "kernelspec": {
   "display_name": "Python 3 (ipykernel)",
   "language": "python",
   "name": "python3"
  },
  "language_info": {
   "codemirror_mode": {
    "name": "ipython",
    "version": 3
   },
   "file_extension": ".py",
   "mimetype": "text/x-python",
   "name": "python",
   "nbconvert_exporter": "python",
   "pygments_lexer": "ipython3",
   "version": "3.9.13"
  }
 },
 "nbformat": 4,
 "nbformat_minor": 5
}
